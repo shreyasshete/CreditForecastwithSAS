{
 "cells": [
  {
   "cell_type": "code",
   "execution_count": 11,
   "id": "b5c69426",
   "metadata": {},
   "outputs": [
    {
     "name": "stdout",
     "output_type": "stream",
     "text": [
      "Dataset saved as credit_transaction_data.csv\n"
     ]
    }
   ],
   "source": [
    "import pandas as pd\n",
    "import numpy as np\n",
    "\n",
    "np.random.seed(42)\n",
    "\n",
    "# Generate synthetic data\n",
    "num_records = 5001\n",
    "\n",
    "customer_ids = np.arange(101, 101 + num_records)\n",
    "ages = np.random.randint(20, 65, num_records)\n",
    "genders = np.random.choice(['Male', 'Female'], num_records)\n",
    "employment_statuses = np.random.choice(['Employed', 'Student', 'Unemployed'], num_records)\n",
    "incomes = np.random.randint(20000, 100000, num_records)\n",
    "credit_histories = np.random.choice(['Excellent', 'Good', 'Limited', 'Poor'], num_records)\n",
    "loan_ids = np.arange(201, 201 + num_records)\n",
    "loan_amounts = np.random.randint(5000, 30000, num_records)\n",
    "interest_rates = np.around(np.random.uniform(4, 10, num_records), decimals=1)\n",
    "loan_terms = np.random.choice(['24 months', '36 months', '48 months'], num_records)\n",
    "payment_histories = np.random.choice(['On-time', 'Missed', 'Defaulted'], num_records)\n",
    "defaults = np.random.choice(['Yes', 'No'], num_records)\n",
    "\n",
    "# Add Year column\n",
    "years = np.random.choice([2020, 2021, 2022], num_records)\n",
    "\n",
    "# Calculate DefaultRate based on total defaults in each year\n",
    "default_rates = np.zeros(num_records)\n",
    "for year in [2020, 2021, 2022]:\n",
    "    mask = years == year\n",
    "    total_records = np.sum(mask)\n",
    "    total_defaults = np.sum(defaults[mask] == 'Yes')\n",
    "    default_rate = total_defaults / total_records\n",
    "    default_rates[mask] = default_rate\n",
    "\n",
    "# Create DataFrame\n",
    "data = {\n",
    "    'CustomerID': customer_ids,\n",
    "    'Age': ages,\n",
    "    'Gender': genders,\n",
    "    'EmploymentStatus': employment_statuses,\n",
    "    'Income': incomes,\n",
    "    'CreditHistory': credit_histories,\n",
    "    'LoanID': loan_ids,\n",
    "    'LoanAmount': loan_amounts,\n",
    "    'InterestRate': interest_rates,\n",
    "    'LoanTerm': loan_terms,\n",
    "    'PaymentHistory': payment_histories,\n",
    "    'Default': defaults,\n",
    "    'Year': years,\n",
    "    'DefaultRate': default_rates\n",
    "}\n",
    "\n",
    "df = pd.DataFrame(data)\n",
    "\n",
    "# Save DataFrame as a CSV file\n",
    "csv_filename = 'credit_transaction_data.csv'\n",
    "df.to_csv(csv_filename, index=False)\n",
    "\n",
    "print(f'Dataset saved as {csv_filename}')\n"
   ]
  },
  {
   "cell_type": "code",
   "execution_count": null,
   "id": "fa01699a",
   "metadata": {},
   "outputs": [],
   "source": []
  },
  {
   "cell_type": "code",
   "execution_count": null,
   "id": "f7ebb26a",
   "metadata": {},
   "outputs": [],
   "source": []
  }
 ],
 "metadata": {
  "kernelspec": {
   "display_name": "Python 3 (ipykernel)",
   "language": "python",
   "name": "python3"
  },
  "language_info": {
   "codemirror_mode": {
    "name": "ipython",
    "version": 3
   },
   "file_extension": ".py",
   "mimetype": "text/x-python",
   "name": "python",
   "nbconvert_exporter": "python",
   "pygments_lexer": "ipython3",
   "version": "3.10.9"
  }
 },
 "nbformat": 4,
 "nbformat_minor": 5
}
